{
 "cells": [
  {
   "cell_type": "code",
   "execution_count": null,
   "metadata": {
    "id": "V0MlomrGAhhg",
    "scrolled": false
   },
   "outputs": [],
   "source": [
    "import numpy as np # linear algebra\n",
    "import pandas as pd # data processing, CSV file I/O (e.g. pd.read_csv)\n",
    "import json\n",
    "import re\n",
    "import os\n",
    " "
   ]
  },
  {
   "cell_type": "markdown",
   "metadata": {},
   "source": [
    "### Reading the input file and creating a clean one"
   ]
  },
  {
   "cell_type": "code",
   "execution_count": null,
   "metadata": {},
   "outputs": [],
   "source": [
    "\n",
    "# Getting the list of all files and directories\n",
    "path1 = \"./Movie_Poster_Metadata/groundtruth\"\n",
    "path2 = \"./Movie_Poster_Metadata/updated_groundtruth\"\n",
    "dir_list = os.listdir(path1)\n",
    " \n",
    "for file_name in dir_list:\n",
    "    \n",
    "    # Loading or Opening the json file\n",
    "    with open(path1+'/'+file_name) as file1:\n",
    "#         file_data = file1.read()\n",
    "\n",
    "        # defining object file2 to open \n",
    "        file2 = open(path2+'/'+file_name,'w')\n",
    "\n",
    "\n",
    "        for line in file1.readlines():\n",
    "\n",
    "            # reading all lines that begin \n",
    "            # with \"  \"_id\"\"\n",
    "            x = re.findall(\"^  \\\"_id\\\"\", line)\n",
    "\n",
    "            if not x:\n",
    "                # printing those lines\n",
    "#                 print(line)\n",
    "\n",
    "                # storing only those lines that \n",
    "                # do not begin with \"TextGenerator\"\n",
    "                file2.write(line)\n",
    "\n",
    "        append_movie_metadata(file2,)\n",
    "    # close and save the files\n",
    "    file1.close()\n",
    "    file2.close()\n",
    "\n"
   ]
  },
  {
   "cell_type": "markdown",
   "metadata": {},
   "source": [
    "### Function to append all the json objects into dataframe "
   ]
  },
  {
   "cell_type": "code",
   "execution_count": null,
   "metadata": {},
   "outputs": [],
   "source": [
    "def append_movie_metadata()"
   ]
  }
 ],
 "metadata": {
  "colab": {
   "name": "genre_classification.ipynb",
   "provenance": []
  },
  "kernelspec": {
   "display_name": "Python 3 (ipykernel)",
   "language": "python",
   "name": "python3"
  },
  "language_info": {
   "codemirror_mode": {
    "name": "ipython",
    "version": 3
   },
   "file_extension": ".py",
   "mimetype": "text/x-python",
   "name": "python",
   "nbconvert_exporter": "python",
   "pygments_lexer": "ipython3",
   "version": "3.8.0"
