{
 "cells": [
  {
   "cell_type": "code",
   "execution_count": 1,
   "metadata": {
    "id": "V0MlomrGAhhg",
    "scrolled": false
   },
   "outputs": [],
   "source": [
    "import numpy as np # linear algebra\n",
    "import pandas as pd # data processing, CSV file I/O (e.g. pd.read_csv)\n",
    "import shutil\n",
    "import json\n",
    "import re\n",
    "import os\n",
    " "
   ]
  },
  {
   "cell_type": "code",
   "execution_count": 2,
   "metadata": {},
   "outputs": [],
   "source": [
    "path1 = \"./Movie_Poster_Metadata/groundtruth\"\n",
    "temp_path = \"./Movie_Poster_Metadata/temp_groundtruth\"\n",
    "path2 = \"./Movie_Poster_Metadata/updated_groundtruth\""
   ]
  },
  {
   "cell_type": "markdown",
   "metadata": {},
   "source": [
    "### Reading the input file and creating a clean one"
   ]
  },
  {
   "cell_type": "code",
   "execution_count": 13,
   "metadata": {},
   "outputs": [],
   "source": [
    "dir_list = os.listdir(path1)\n",
    " \n",
    "if not os.path.exists(temp_path):\n",
    "  os.makedirs(temp_path)    \n",
    "\n",
    "if not os.path.exists(path2):\n",
    "  os.makedirs(path2)\n",
    "\n",
    "\n",
    "\n",
    "for file_name in dir_list:\n",
    "    \n",
    "    with open(path1+'/'+file_name,'r',encoding='utf-16-le') as file1:\n",
    "\n",
    "        temp_file = open(temp_path+'/'+file_name,'w',encoding='utf-8')\n",
    "\n",
    "        for line in file1.readlines():\n",
    "\n",
    "            line = line.replace(\"}\\n\",\"},\\n\")\n",
    "            \n",
    "            # reading all lines that begin with \"  \"_id\"\"\n",
    "            y = re.findall(\"^  \\\"_id\\\"\", line)\n",
    "            if not y:\n",
    "                temp_file.write(line)\n",
    "\n",
    "    file1.close()\n",
    "    temp_file.close()"
   ]
  },
  {
   "cell_type": "code",
   "execution_count": 14,
   "metadata": {},
   "outputs": [],
   "source": [
    "dir_list = os.listdir(temp_path)\n",
    " \n",
    "for file_name in dir_list:\n",
    "    \n",
    "    with open(temp_path+'/'+file_name,'r',encoding='utf-8') as temp_file:\n",
    "    \n",
    "        file2 = open(path2+'/'+file_name,'w',encoding='utf-8')\n",
    "\n",
    "        lines = temp_file.readlines()\n",
    "        lines = lines[1:-1]\n",
    "\n",
    "        file2.write(\"[{\")\n",
    "        file2.writelines(lines)\n",
    "        file2.write(\"}]\")\n",
    "        \n",
    "    temp_file.close()\n",
    "    file2.close()\n",
    "\n",
    "shutil.rmtree(temp_path)  "
   ]
  },
  {
   "cell_type": "markdown",
   "metadata": {},
   "source": [
    "### Function to append all the json objects into dataframe "
   ]
  },
  {
   "cell_type": "code",
   "execution_count": 15,
   "metadata": {},
   "outputs": [
    {
     "name": "stdout",
     "output_type": "stream",
     "text": [
      "imdbID        object\n",
      "Director      object\n",
      "Genre         object\n",
      "imdbRating    object\n",
      "dtype: object\n",
      "       imdbID                                  Director  \\\n",
      "0   tt0080684                            Irvin Kershner   \n",
      "1   tt0081562                            Sidney Poitier   \n",
      "2   tt0080339  Jim Abrahams, David Zucker, Jerry Zucker   \n",
      "3   tt0080377                            Buddy Van Horn   \n",
      "4   tt0081375                              Howard Zieff   \n",
      "5   tt0080549                             Michael Apted   \n",
      "6   tt0081529                               Hal Needham   \n",
      "7   tt0080453                            Randal Kleiser   \n",
      "8   tt0080455                               John Landis   \n",
      "9   tt0081283                            Robert Redford   \n",
      "10  tt0081353                             Robert Altman   \n",
      "11  tt0081696                             James Bridges   \n",
      "12  tt0081505                           Stanley Kubrick   \n",
      "13  tt0081480                              Jay Sandrich   \n",
      "14  tt0080520                               Tommy Chong   \n",
      "15  tt0080487                              Harold Ramis   \n",
      "16  tt0080474                          Stuart Rosenberg   \n",
      "17  tt0081060                               Ron Maxwell   \n",
      "18  tt0080661                            Brian De Palma   \n",
      "19  tt0080948                         Richard Fleischer   \n",
      "\n",
      "                         Genre imdbRating  \n",
      "0   Action, Adventure, Fantasy        8.8  \n",
      "1                Comedy, Crime        6.8  \n",
      "2                       Comedy        7.8  \n",
      "3               Action, Comedy        6.0  \n",
      "4                  Comedy, War        6.1  \n",
      "5      Biography, Drama, Music        7.5  \n",
      "6               Action, Comedy        5.1  \n",
      "7    Adventure, Drama, Romance        5.7  \n",
      "8        Action, Comedy, Crime        7.9  \n",
      "9                        Drama        7.8  \n",
      "10   Adventure, Comedy, Family        5.2  \n",
      "11     Drama, Romance, Western        6.2  \n",
      "12               Drama, Horror        8.4  \n",
      "13             Comedy, Romance        6.7  \n",
      "14       Comedy, Crime, Sci-Fi        6.1  \n",
      "15               Comedy, Sport        7.4  \n",
      "16                       Drama        7.1  \n",
      "17               Comedy, Drama        6.4  \n",
      "18           Mystery, Thriller        7.1  \n",
      "19       Drama, Music, Romance        5.7  \n",
      "(8873, 4)\n"
     ]
    }
   ],
   "source": [
    "dir_list = os.listdir(path2)\n",
    "\n",
    "movies_df = pd.DataFrame()\n",
    "\n",
    "for file_name in dir_list:    \n",
    "\n",
    "#     try:\n",
    "    df = pd.read_json(path2+'/'+file_name,encoding='utf-8',orient='records')\n",
    "    df = df[['imdbID','Director','Genre','imdbRating']]\n",
    "    movies_df = pd.concat([movies_df,df], ignore_index=True)\n",
    "\n",
    "#     except:\n",
    "#         print(file_name)\n",
    "        \n",
    "print(movies_df.dtypes)\n",
    "print(movies_df.head(20))\n",
    "print(movies_df.shape)"
   ]
  },
  {
   "cell_type": "code",
   "execution_count": null,
   "metadata": {},
   "outputs": [],
   "source": []
  }
 ],
 "metadata": {
  "colab": {
   "name": "genre_classification.ipynb",
   "provenance": []
  },
  "kernelspec": {
   "display_name": "Python 3 (ipykernel)",
   "language": "python",
   "name": "python3"
  },
  "language_info": {
   "codemirror_mode": {
    "name": "ipython",
    "version": 3
   },
   "file_extension": ".py",
   "mimetype": "text/x-python",
   "name": "python",
   "nbconvert_exporter": "python",
   "pygments_lexer": "ipython3",
   "version": "3.8.0"
  }
 },
 "nbformat": 4,
 "nbformat_minor": 1
}
