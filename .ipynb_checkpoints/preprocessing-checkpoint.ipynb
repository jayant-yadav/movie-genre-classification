{
 "cells": [
  {
   "cell_type": "markdown",
   "id": "9348bdfe",
   "metadata": {},
   "source": [
    "### Reading the input file and creating a clean one\n",
    "Note: only run once"
   ]
  },
  {
   "cell_type": "code",
   "execution_count": 1,
   "id": "4da4c380",
   "metadata": {},
   "outputs": [],
   "source": [
    "path1 = \"./Movie_Poster_Metadata/groundtruth\"\n",
    "temp_path = \"./Movie_Poster_Metadata/temp_groundtruth\"\n",
    "path2 = \"./Movie_Poster_Metadata/updated_groundtruth\""
   ]
  },
  {
   "cell_type": "code",
   "execution_count": 3,
   "id": "f17a64fb",
   "metadata": {},
   "outputs": [],
   "source": [
    "def reconstuct_metadata():\n",
    "\n",
    "\n",
    "    dir_list = os.listdir(path1)\n",
    "\n",
    "    if not os.path.exists(temp_path):\n",
    "      os.makedirs(temp_path)    \n",
    "\n",
    "    if not os.path.exists(path2):\n",
    "      os.makedirs(path2)\n",
    "    \n",
    "    else:\n",
    "        print(\"directories already exist. Not cleaning metadata\")\n",
    "        return none\n",
    "\n",
    "\n",
    "    print(\"dp spmtmthsiod\")\n",
    "#     for file_name in dir_list:\n",
    "\n",
    "#         with open(path1+'/'+file_name,'r',encoding='utf-16-le') as file1:\n",
    "\n",
    "#             temp_file = open(temp_path+'/'+file_name,'w',encoding='utf-8')\n",
    "\n",
    "#             for line in file1.readlines():\n",
    "\n",
    "#                 line = line.replace(\"}\\n\",\"},\\n\")\n",
    "\n",
    "#                 # reading all lines that begin with \"  \"_id\"\"\n",
    "#                 y = re.findall(\"^  \\\"_id\\\"\", line)\n",
    "#                 if not y:\n",
    "#                     temp_file.write(line)\n",
    "\n",
    "#         file1.close()\n",
    "#         temp_file.close()\n",
    "\n",
    "#     dir_list = os.listdir(temp_path)\n",
    "\n",
    "#     for file_name in dir_list:\n",
    "\n",
    "#         with open(temp_path+'/'+file_name,'r',encoding='utf-8') as temp_file:\n",
    "\n",
    "#             file2 = open(path2+'/'+file_name,'w',encoding='utf-8')\n",
    "\n",
    "#             lines = temp_file.readlines()\n",
    "#             lines = lines[1:-1]\n",
    "\n",
    "#             file2.write(\"[{\")\n",
    "#             file2.writelines(lines)\n",
    "#             file2.write(\"}]\")\n",
    "\n",
    "#         temp_file.close()\n",
    "#         file2.close()\n",
    "\n",
    "#     shutil.rmtree(temp_path)  \n",
    "\n",
    "    return None"
   ]
  },
  {
   "cell_type": "code",
   "execution_count": null,
   "id": "5b4ca4f0",
   "metadata": {},
   "outputs": [],
   "source": []
  }
 ],
 "metadata": {
  "kernelspec": {
   "display_name": "Python 3 (ipykernel)",
   "language": "python",
   "name": "python3"
  },
  "language_info": {
   "codemirror_mode": {
    "name": "ipython",
    "version": 3
   },
   "file_extension": ".py",
   "mimetype": "text/x-python",
   "name": "python",
   "nbconvert_exporter": "python",
   "pygments_lexer": "ipython3",
   "version": "3.8.0"
  }
 },
 "nbformat": 4,
 "nbformat_minor": 5
}
